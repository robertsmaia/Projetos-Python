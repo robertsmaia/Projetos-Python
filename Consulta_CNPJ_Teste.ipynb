{
 "cells": [
  {
   "cell_type": "code",
   "execution_count": 6,
   "id": "9f1937f8",
   "metadata": {},
   "outputs": [],
   "source": [
    "import requests\n",
    "import json\n",
    "import cx_Oracle \n",
    "import pandas as pd\n",
    "import pandas.io.sql as sqlio\n",
    "import json\n",
    "import urllib3\n",
    "import csv\n",
    "urllib3.disable_warnings()"
   ]
  },
  {
   "cell_type": "code",
   "execution_count": 7,
   "id": "26a4e470",
   "metadata": {},
   "outputs": [],
   "source": [
    "def sql_connection():\n",
    "\n",
    " uid = \"*******\"    # usuário\n",
    " pwd = \"******\"   # senha\n",
    " db = \"******\"  # string de conexão do Oracle, configurado no\n",
    "                # cliente Oracle, arquivo tnsnames.ora\n",
    " connection = cx_Oracle.connect(uid+\"/\"+pwd+\"@\"+db) #cria a conexão\n",
    "\n",
    " return connection\n"
   ]
  },
  {
   "cell_type": "code",
   "execution_count": 9,
   "id": "eea6aacd",
   "metadata": {},
   "outputs": [],
   "source": [
    "def query_to_df(query):\n",
    " connection = sql_connection()\n",
    " data_set = sqlio.read_sql_query(query, connection)\n",
    " return data_set\n",
    "\n",
    "\n",
    "query = 'SELECT * FROM Consulta_CNPJ '\n",
    "df_cnpj = query_to_df(query)"
   ]
  },
  {
   "cell_type": "code",
   "execution_count": null,
   "id": "c0b92b9a",
   "metadata": {},
   "outputs": [],
   "source": [
    "def get_cnpj_data(cnpj):\n",
    "    # Dado um CNPJ, faz uma requisição para a API Minha Receita. Caso a requisição seja bem sucedida, retorna o conteúdo da requisição em formato json\n",
    "    minha_receita_api_url = 'https://minhareceita.org/'\n",
    "    r = requests.post(minha_receita_api_url, data=cnpj, verify=False)\n",
    "    if r.status_code == 200:\n",
    "        return json.loads(r.content)"
   ]
  },
  {
   "cell_type": "code",
   "execution_count": null,
   "id": "b12b5537",
   "metadata": {
    "scrolled": false
   },
   "outputs": [],
   "source": [
    "def clean_text(full_text):\n",
    "    # Limpa um texto, retirando quebras de linha e ponto-e-vírgulas\n",
    "    clean_text = full_text.replace(\"\\n\", \" \")\n",
    "    clean_text = full_text.replace(\";\", \" \")\n",
    "    return clean_text\n",
    "\n",
    "\n",
    "def cnpj_data_to_df(df_cnpj):\n",
    "    # Recebe um dataframe contendo os CNPJ's e, a partir das requisições à API Minha Receita, estrutura um dataframe contendo os dados do CNPJ\n",
    "    data_set = pd.DataFrame(columns=[\n",
    "        'cnpj',\n",
    "        'razao_social',\n",
    "        'nome_fantasia',\n",
    "        'atividade_principal_codigo',\n",
    "        'atividade_principal_descricao',\n",
    "        'situacao_cadastral',\n",
    "        'capital_social',\n",
    "        'porte',\n",
    "        'codigo_natureza_juridica',\n",
    "        'data_abertura',\n",
    "        'cep',\n",
    "        'municipio',\n",
    "        'uf',\n",
    "        'nome_socio',\n",
    "        'cnpj_cpf_do_socio',\n",
    "        'qualificacao_socio',\n",
    "        'data_entrada_sociedade'\n",
    "    ])\n",
    "    for cnpj in df_cnpj['NUM_CGC']:\n",
    "        cnpj_data = get_cnpj_data({'cnpj': cnpj})\n",
    "        df_cnpj_data = json.loads(json.dumps(cnpj_data['qsa']))\n",
    "        if df_cnpj_data != None:\n",
    "            for i in df_cnpj_data:\n",
    "                if i != None:\n",
    "                        new_row = {\n",
    "                            'cnpj': cnpj,       \n",
    "                            'razao_social': cnpj_data['razao_social'],\n",
    "                            'nome_fantasia': cnpj_data['nome_fantasia'],\n",
    "                            'atividade_principal_codigo': cnpj_data['cnae_fiscal'],\n",
    "                            'atividade_principal_descricao': clean_text(cnpj_data['cnae_fiscal_descricao']),\n",
    "                            'situacao_cadastral': cnpj_data['descricao_situacao_cadastral'],\n",
    "                            'capital_social': float(cnpj_data['capital_social']),\n",
    "                            'porte': cnpj_data['descricao_porte'],\n",
    "                            'codigo_natureza_juridica': int(cnpj_data['codigo_natureza_juridica']),\n",
    "                            'data_abertura': cnpj_data['data_inicio_atividade'],\n",
    "                            'cep': cnpj_data['cep'],\n",
    "                            'municipio': cnpj_data['municipio'],\n",
    "                            'uf': cnpj_data['uf'],\n",
    "                            'nome_socio': i['nome_socio'],\n",
    "                            'cnpj_cpf_do_socio': i['cnpj_cpf_do_socio'],\n",
    "                            'qualificacao_socio': i['qualificacao_socio'],\n",
    "                            'data_entrada_sociedade': i['data_entrada_sociedade']\n",
    "                                                                        }\n",
    "                else:\n",
    "                    new_row = {'cnpj': cnpj}\n",
    "                data_set = data_set.append(new_row, ignore_index=True)\n",
    "    return data_set"
   ]
  },
  {
   "cell_type": "code",
   "execution_count": null,
   "id": "1bfcda3b",
   "metadata": {},
   "outputs": [],
   "source": [
    "def df_to_csv(csv_path, data_set):\n",
    "    # Exporta um dataframe para um arquivo csv\n",
    "    data_set.to_csv(csv_path, header=False, index=False, sep=';',\n",
    "                    encoding='utf-8', quoting=csv.QUOTE_MINIMAL)"
   ]
  },
  {
   "cell_type": "code",
   "execution_count": null,
   "id": "06e1f0d8",
   "metadata": {},
   "outputs": [],
   "source": [
    "def df_to_csv(csv_path, data_set):\n",
    "    # Exporta um dataframe para um arquivo csv\n",
    "    data_set.to_csv(csv_path, encoding='latin-1', index=False, sep=';',\n",
    "                    quoting=csv.QUOTE_MINIMAL)"
   ]
  },
  {
   "cell_type": "code",
   "execution_count": null,
   "id": "13fd55c3",
   "metadata": {
    "scrolled": false
   },
   "outputs": [],
   "source": [
    "urllib3.disable_warnings()\n",
    "csv_path = 'temp_cnpj_data_teste.csv'\n",
    "df_cnpj_data = pd.DataFrame()\n",
    "for i in range(0, len(df_cnpj), 1000):\n",
    "    new_batch = cnpj_data_to_df(df_cnpj[i:i+1000])\n",
    "    df_to_csv(csv_path, new_batch)\n",
    "   # csv_to_sql_table(csv_path)\n",
    "    df_cnpj_data = df_cnpj_data.append(new_batch, ignore_index=True)\n",
    "    print(i)"
   ]
  },
  {
   "cell_type": "code",
   "execution_count": null,
   "id": "95dfed57",
   "metadata": {},
   "outputs": [],
   "source": []
  }
 ],
 "metadata": {
  "kernelspec": {
   "display_name": "Python 3 (ipykernel)",
   "language": "python",
   "name": "python3"
  },
  "language_info": {
   "codemirror_mode": {
    "name": "ipython",
    "version": 3
   },
   "file_extension": ".py",
   "mimetype": "text/x-python",
   "name": "python",
   "nbconvert_exporter": "python",
   "pygments_lexer": "ipython3",
   "version": "3.9.7"
  }
 },
 "nbformat": 4,
 "nbformat_minor": 5
}
